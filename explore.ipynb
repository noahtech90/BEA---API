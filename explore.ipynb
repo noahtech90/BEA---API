{
 "cells": [
  {
   "cell_type": "code",
   "execution_count": 5,
   "id": "fa800341",
   "metadata": {},
   "outputs": [
    {
     "data": {
      "text/plain": [
       "{'Parameter': [{'ParameterName': 'Frequency',\n",
       "   'ParameterDataType': 'string',\n",
       "   'ParameterDescription': 'A - Annual, Q-Quarterly',\n",
       "   'ParameterIsRequiredFlag': '1',\n",
       "   'ParameterDefaultValue': '',\n",
       "   'MultipleAcceptedFlag': '1',\n",
       "   'AllValue': 'ALL'},\n",
       "  {'ParameterName': 'Industry',\n",
       "   'ParameterDataType': 'string',\n",
       "   'ParameterDescription': 'List of industries to retrieve (ALL for All)',\n",
       "   'ParameterIsRequiredFlag': '1',\n",
       "   'ParameterDefaultValue': '',\n",
       "   'MultipleAcceptedFlag': '1',\n",
       "   'AllValue': 'ALL'},\n",
       "  {'ParameterName': 'TableID',\n",
       "   'ParameterDataType': 'integer',\n",
       "   'ParameterDescription': 'The unique GDP by Industry table identifier (ALL for All)',\n",
       "   'ParameterIsRequiredFlag': '1',\n",
       "   'ParameterDefaultValue': '',\n",
       "   'MultipleAcceptedFlag': '1',\n",
       "   'AllValue': 'ALL'},\n",
       "  {'ParameterName': 'Year',\n",
       "   'ParameterDataType': 'integer',\n",
       "   'ParameterDescription': 'List of year(s) of data to retrieve (ALL for All)',\n",
       "   'ParameterIsRequiredFlag': '1',\n",
       "   'ParameterDefaultValue': '',\n",
       "   'MultipleAcceptedFlag': '1',\n",
       "   'AllValue': 'ALL'}]}"
      ]
     },
     "execution_count": 5,
     "metadata": {},
     "output_type": "execute_result"
    }
   ],
   "source": [
    "import pandas as pd\n",
    "import requests\n",
    "from pprint import pprint\n",
    "from urllib.request import urlopen\n",
    "import plotly.graph_objects as go\n",
    "from settings import *\n",
    "import plotly.express as px\n",
    "from base import BEA\n",
    "\n",
    "bea = BEA()\n",
    "data_set = 'gdp_by_industry'\n",
    "parameter = 'TableID'\n",
    "\n",
    "datasets = bea.meta.get_available_data_sets()\n",
    "parameters = bea.meta.get_available_parameters('gdp_by_industry')['BEAAPI']['Results']\n",
    "table_ids = bea.meta.get_parameter_values()\n",
    "datasets"
   ]
  },
  {
   "cell_type": "code",
   "execution_count": null,
   "id": "47286814",
   "metadata": {},
   "outputs": [],
   "source": []
  }
 ],
 "metadata": {
  "kernelspec": {
   "display_name": "Python 3 (ipykernel)",
   "language": "python",
   "name": "python3"
  },
  "language_info": {
   "codemirror_mode": {
    "name": "ipython",
    "version": 3
   },
   "file_extension": ".py",
   "mimetype": "text/x-python",
   "name": "python",
   "nbconvert_exporter": "python",
   "pygments_lexer": "ipython3",
   "version": "3.9.9"
  }
 },
 "nbformat": 4,
 "nbformat_minor": 5
}
