{
 "cells": [
  {
   "cell_type": "code",
   "execution_count": 10,
   "id": "fa800341",
   "metadata": {},
   "outputs": [
    {
     "data": {
      "text/plain": [
       "{'BEAAPI': {'Request': {'RequestParam': [{'ParameterName': 'USERID',\n",
       "     'ParameterValue': '487A2E74-F753-4B15-B306-2FC3A0D95F09'},\n",
       "    {'ParameterName': 'METHOD', 'ParameterValue': 'GETDATASETLIST'}]},\n",
       "  'Results': {'Dataset': [{'DatasetName': 'NIPA',\n",
       "     'DatasetDescription': 'Standard NIPA tables'},\n",
       "    {'DatasetName': 'NIUnderlyingDetail',\n",
       "     'DatasetDescription': 'Standard NI underlying detail tables'},\n",
       "    {'DatasetName': 'MNE', 'DatasetDescription': 'Multinational Enterprises'},\n",
       "    {'DatasetName': 'FixedAssets',\n",
       "     'DatasetDescription': 'Standard Fixed Assets tables'},\n",
       "    {'DatasetName': 'ITA',\n",
       "     'DatasetDescription': 'International Transactions Accounts'},\n",
       "    {'DatasetName': 'IIP',\n",
       "     'DatasetDescription': 'International Investment Position'},\n",
       "    {'DatasetName': 'InputOutput', 'DatasetDescription': 'Input-Output Data'},\n",
       "    {'DatasetName': 'IntlServTrade',\n",
       "     'DatasetDescription': 'International Services Trade'},\n",
       "    {'DatasetName': 'GDPbyIndustry', 'DatasetDescription': 'GDP by Industry'},\n",
       "    {'DatasetName': 'Regional', 'DatasetDescription': 'Regional data sets'},\n",
       "    {'DatasetName': 'UnderlyingGDPbyIndustry',\n",
       "     'DatasetDescription': 'Underlying GDP by Industry'},\n",
       "    {'DatasetName': 'APIDatasetMetaData',\n",
       "     'DatasetDescription': 'Metadata about other API datasets'}]}}}"
      ]
     },
     "execution_count": 10,
     "metadata": {},
     "output_type": "execute_result"
    }
   ],
   "source": [
    "import pandas as pd\n",
    "import matplotlib\n",
    "from common import clean_data, time_frame, time_frame_data\n",
    "from urllib.request import urlopen\n",
    "import plotly.graph_objects as go\n",
    "from settings import *\n",
    "import plotly.express as px\n",
    "from models.base import BEA\n",
    "\n",
    "#datasets = bea.meta.get_available_data_sets()\n",
    "#parameters = bea.meta.get_available_parameters(dataset)['BEAAPI']['Results']\n",
    "#parameter_values = bea.meta.get_parameter_values(dataset, parameter)\n",
    "\n",
    "bea = BEA()\n",
    "years = time_frame(25)\n",
    "bea.meta.get_available_data_sets()"
   ]
  },
  {
   "cell_type": "code",
   "execution_count": 18,
   "id": "ba95fc48",
   "metadata": {},
   "outputs": [
    {
     "data": {
      "text/plain": [
       "<AxesSubplot:xlabel='TimePeriod'>"
      ]
     },
     "execution_count": 18,
     "metadata": {},
     "output_type": "execute_result"
    },
    {
     "data": {
      "image/png": "[encoded data removed]",
      "text/plain": [
       "<Figure size 432x288 with 1 Axes>"
      ]
     },
     "metadata": {
      "needs_background": "light"
     },
     "output_type": "display_data"
    }
   ],
   "source": [
    "time_frame_data(bea.nipa, 'T10101', 90).plot.line(x='TimePeriod', y='DataValue')"
   ]
  },
  {
   "cell_type": "code",
   "execution_count": 4,
   "id": "4afdf428",
   "metadata": {},
   "outputs": [
    {
     "ename": "NameError",
     "evalue": "name 'x' is not defined",
     "output_type": "error",
     "traceback": [
      "\u001b[1;31m---------------------------------------------------------------------------\u001b[0m",
      "\u001b[1;31mNameError\u001b[0m                                 Traceback (most recent call last)",
      "\u001b[1;32mC:\\Users\\PCSALE~1\\AppData\\Local\\Temp/ipykernel_20764/3845668762.py\u001b[0m in \u001b[0;36m<module>\u001b[1;34m\u001b[0m\n\u001b[1;32m----> 1\u001b[1;33m \u001b[0mprint\u001b[0m\u001b[1;33m(\u001b[0m\u001b[0mx\u001b[0m\u001b[1;33m.\u001b[0m\u001b[0mdataset\u001b[0m\u001b[1;33m)\u001b[0m\u001b[1;33m\u001b[0m\u001b[1;33m\u001b[0m\u001b[0m\n\u001b[0m",
      "\u001b[1;31mNameError\u001b[0m: name 'x' is not defined"
     ]
    }
   ],
   "source": [
    "bea.meta."
   ]
  },
  {
   "cell_type": "code",
   "execution_count": 9,
   "id": "142814fb",
   "metadata": {},
   "outputs": [
    {
     "data": {
      "text/plain": [
       "[{'TableName': 'FAAt101',\n",
       "  'Description': 'Table 1.1. Current-Cost Net Stock of Fixed Assets and Consumer Durable Goods (A)'},\n",
       " {'TableName': 'FAAt102',\n",
       "  'Description': 'Table 1.2. Chain-Type Quantity Indexes for Net Stock of Fixed Assets and Consumer Durable Goods (A)'},\n",
       " {'TableName': 'FAAt103',\n",
       "  'Description': 'Table 1.3. Current-Cost Depreciation of Fixed Assets and Consumer Durable Goods (A)'},\n",
       " {'TableName': 'FAAt104',\n",
       "  'Description': 'Table 1.4. Chain-Type Quantity Indexes for Depreciation of Fixed Assets and Consumer Durable Goods (A)'},\n",
       " {'TableName': 'FAAt105',\n",
       "  'Description': 'Table 1.5. Investment in Fixed Assets and Consumer Durable Goods (A)'},\n",
       " {'TableName': 'FAAt106',\n",
       "  'Description': 'Table 1.6. Chain-Type Quantity Indexes for Investment in Fixed Assets and Consumer Durable Goods (A)'},\n",
       " {'TableName': 'FAAt107',\n",
       "  'Description': 'Table 1.7. Current-Cost Other Changes in Volume of Assets for Fixed Assets and Consumer Durable Goods (A)'},\n",
       " {'TableName': 'FAAt108',\n",
       "  'Description': 'Table 1.8. Historical-Cost Other Changes in Volume of Assets for Fixed Assets and Consumer Durable Goods (A)'},\n",
       " {'TableName': 'FAAt109',\n",
       "  'Description': 'Table 1.9. Current-Cost Average Age at Yearend of Fixed Assets and Consumer Durable Goods (A)'},\n",
       " {'TableName': 'FAAt201',\n",
       "  'Description': 'Table 2.1. Current-Cost Net Stock of Private Fixed Assets, Equipment, Structures, and Intellectual Property Products by Type (A)'},\n",
       " {'TableName': 'FAAt202',\n",
       "  'Description': 'Table 2.2. Chain-Type Quantity Indexes for Net Stock of Private Fixed Assets, Equipment, Structures, and Intellectual Property Products by Type (A)'},\n",
       " {'TableName': 'FAAt203',\n",
       "  'Description': 'Table 2.3. Historical-Cost Net Stock of Private Fixed Assets, Equipment, Structures, and Intellectual Property Products by Type (A)'},\n",
       " {'TableName': 'FAAt204',\n",
       "  'Description': 'Table 2.4. Current-Cost Depreciation of Private Fixed Assets, Equipment, Structures, and Intellectual Property Products by Type (A)'},\n",
       " {'TableName': 'FAAt205',\n",
       "  'Description': 'Table 2.5. Chain-Type Quantity Indexes for Depreciation of Private Fixed Assets, Equipment, Structures, and Intellectual Property Products by Type (A)'},\n",
       " {'TableName': 'FAAt206',\n",
       "  'Description': 'Table 2.6. Historical-Cost Depreciation of Private Fixed Assets, Equipment, Structures, and Intellectual Property Products by Type (A)'},\n",
       " {'TableName': 'FAAt207',\n",
       "  'Description': 'Table 2.7. Investment in Private Fixed Assets, Equipment, Structures, and Intellectual Property Products by Type (A)'},\n",
       " {'TableName': 'FAAt208',\n",
       "  'Description': 'Table 2.8. Chain-Type Quantity indexes for Investment in Private Fixed Assets, Equipment, Structures, and Intellectual Property Products by Type (A)'},\n",
       " {'TableName': 'FAAt209',\n",
       "  'Description': 'Table 2.9. Current-Cost Average Age at Yearend of Private Fixed Assets, Equipment, Structures, and Intellectual Property Products by Type (A)'},\n",
       " {'TableName': 'FAAt210',\n",
       "  'Description': 'Table 2.10. Historical-Cost Average Age at Yearend of Private Fixed Assets,  Equipment, Structures, and Intellectual Property Products by Type (A)'},\n",
       " {'TableName': 'FAAt301E',\n",
       "  'Description': 'Table 3.1E. Current-Cost Net Stock of Private Equipment by Industry (A)'},\n",
       " {'TableName': 'FAAt301ESI',\n",
       "  'Description': 'Table 3.1ESI. Current-Cost Net Stock of Private Fixed Assets by Industry (A)'},\n",
       " {'TableName': 'FAAt301I',\n",
       "  'Description': 'Table 3.1I. Current-Cost Net Stock of Intellectual Property Products by Industry (A)'},\n",
       " {'TableName': 'FAAt301S',\n",
       "  'Description': 'Table 3.1S. Current-Cost net Stock of Private Structures by Industry (A)'},\n",
       " {'TableName': 'FAAt302E',\n",
       "  'Description': 'Table 3.2E. Chain-Type Quantity Indexes for Net Stock of Private Equipment by Industry (A)'},\n",
       " {'TableName': 'FAAt302ESI',\n",
       "  'Description': 'Table 3.2ESI. Chain-Type Quantity Indexes for Net Stock of Private Fixed Assets by Industry (A)'},\n",
       " {'TableName': 'FAAt302I',\n",
       "  'Description': 'Table 3.2I. Chain-Type Quantity Indexes for Net Stock of Intellectual Property Products by Industry (A)'},\n",
       " {'TableName': 'FAAt302S',\n",
       "  'Description': 'Table 3.2S. Chain-Type Quantity Indexes for Net Stock of Private Structures by Industry (A)'},\n",
       " {'TableName': 'FAAt303E',\n",
       "  'Description': 'Table 3.3E. Historical-Cost Net Stock of Private Equipment by Industry (A)'},\n",
       " {'TableName': 'FAAt303ESI',\n",
       "  'Description': 'Table 3.3ESI. Historical-Cost Net Stock of Private Fixed Assets by Industry (A)'},\n",
       " {'TableName': 'FAAt303I',\n",
       "  'Description': 'Table 3.3I. Historical-Cost Net Stock of Private Intellectual Property Products by Industry (A)'},\n",
       " {'TableName': 'FAAt303S',\n",
       "  'Description': 'Table 3.3S. Historical-Cost net Stock of Private Structures by Industry (A)'},\n",
       " {'TableName': 'FAAt304E',\n",
       "  'Description': 'Table 3.4E. Current-Cost Depreciation of Private Equipment by Industry (A)'},\n",
       " {'TableName': 'FAAt304ESI',\n",
       "  'Description': 'Table 3.4ESI. Current-Cost Depreciation of Private Fixed Assets by Industry (A)'},\n",
       " {'TableName': 'FAAt304I',\n",
       "  'Description': 'Table 3.4I. Current-Cost Depreciation of Private Intellectual Property Products by Industry (A)'},\n",
       " {'TableName': 'FAAt304S',\n",
       "  'Description': 'Table 3.4S. Current-Cost Depreciation of Private Structures by Industry (A)'},\n",
       " {'TableName': 'FAAt305E',\n",
       "  'Description': 'Table 3.5E. Chain-Type Quantity Indexes for Depreciation of Private Equipment by Industry (A)'},\n",
       " {'TableName': 'FAAt305ESI',\n",
       "  'Description': 'Table 3.5ESI. Chain-Type Quantity Indexes for Depreciation of Private Fixed Assets by Industry (A)'},\n",
       " {'TableName': 'FAAt305I',\n",
       "  'Description': 'Table 3.5I. Chain-Type Quantity Indexes for Depreciation of Private Intellectual Property Products by Industry (A)'},\n",
       " {'TableName': 'FAAt305S',\n",
       "  'Description': 'Table 3.5S. Chain-Type Quantity Indexes for Depreciation of Private Structures by Industry (A)'},\n",
       " {'TableName': 'FAAt306E',\n",
       "  'Description': 'Table 3.6E. Historical-Cost Depreciation of Private Equipment by Industry (A)'},\n",
       " {'TableName': 'FAAt306ESI',\n",
       "  'Description': 'Table 3.6ESI. Historical-Cost Depreciation of Private Fixed Assets by Industry (A)'},\n",
       " {'TableName': 'FAAt306I',\n",
       "  'Description': 'Table 3.6I. Historical-Cost Depreciation of Private Intellectual Property Products by Industry (A)'},\n",
       " {'TableName': 'FAAt306S',\n",
       "  'Description': 'Table 3.6S. Historical-Cost Depreciation of Private Structures by Industry (A)'},\n",
       " {'TableName': 'FAAt307E',\n",
       "  'Description': 'Table 3.7E. Investment in Private Equipment by Industry (A)'},\n",
       " {'TableName': 'FAAt307ESI',\n",
       "  'Description': 'Table 3.7ESI. Investment in Private Fixed Assets by Industry (A)'},\n",
       " {'TableName': 'FAAt307I',\n",
       "  'Description': 'Table 3.7I. Investment in Private Intellectual Property Products by Industry (A)'},\n",
       " {'TableName': 'FAAt307S',\n",
       "  'Description': 'Table 3.7S. Investment in Private Structures by Industry (A)'},\n",
       " {'TableName': 'FAAt308E',\n",
       "  'Description': 'Table 3.8E. Chain-Type Quantity Indexes for Investment in Private Equipment by Industry (A)'},\n",
       " {'TableName': 'FAAt308ESI',\n",
       "  'Description': 'Table 3.8ESI. Chain-Type Quantity Indexes for Investment in Private Fixed Assets by Industry (A)'},\n",
       " {'TableName': 'FAAt308I',\n",
       "  'Description': 'Table 3.8I. Chain-Type Quantity Indexes for Investment in Private Intellectual Property Products by Industry (A)'},\n",
       " {'TableName': 'FAAt308S',\n",
       "  'Description': 'Table 3.8S. Chain-Type Quantity Indexes for Investment in Private Structures by  Industry (A)'},\n",
       " {'TableName': 'FAAt309E',\n",
       "  'Description': 'Table 3.9E. Current-Cost Average Age at Yearend of Private Equipment by Industry (A)'},\n",
       " {'TableName': 'FAAt309ESI',\n",
       "  'Description': 'Table 3.9ESI. Current-Cost Average Age at Yearend of Private Fixed Assets by Industry (A)'},\n",
       " {'TableName': 'FAAt309I',\n",
       "  'Description': 'Table 3.9I. Current-Cost Average Age at Yearend of Private Intellectual Property Products by Industry (A)'},\n",
       " {'TableName': 'FAAt309S',\n",
       "  'Description': 'Table 3.9S. Current-Cost Average Age at Yearend of Private Structures by Industry (A)'},\n",
       " {'TableName': 'FAAt310E',\n",
       "  'Description': 'Table 3.10E. Historical-Cost Average Age at Yearend of Private Equipment by Industry (A)'},\n",
       " {'TableName': 'FAAt310ESI',\n",
       "  'Description': 'Table 3.10ESI. Historical-Cost Average Age at Yearend of Private Fixed Assets by Industry (A)'},\n",
       " {'TableName': 'FAAt310I',\n",
       "  'Description': 'Table 3.10I. Historical-Cost Average Age at Yearend of Private Intellectual Property Products by Industry (A)'},\n",
       " {'TableName': 'FAAt310S',\n",
       "  'Description': 'Table 3.10S. Historical-Cost Average Age at Yearend of Private Structures by Industry (A)'},\n",
       " {'TableName': 'FAAt401',\n",
       "  'Description': 'Table 4.1. Current-Cost Net Stock of Private Nonresidential Fixed Assets by Industry Group and Legal Form of Organization (A)'},\n",
       " {'TableName': 'FAAt402',\n",
       "  'Description': 'Table 4.2. Chain-Type Quantity Indexes for Net Stock of Private Nonresidential Fixed Assets by Industry Group and Legal Form of Organization (A)'},\n",
       " {'TableName': 'FAAt403',\n",
       "  'Description': 'Table 4.3. Historical-Cost Net Stock of Private Nonresidential Fixed Assets by Industry Group and Legal Form of Organization (A)'},\n",
       " {'TableName': 'FAAt404',\n",
       "  'Description': 'Table 4.4. Current-Cost Depreciation of Private Nonresidential Fixed Assets by Industry Group and Legal Form of Organization (A)'},\n",
       " {'TableName': 'FAAt405',\n",
       "  'Description': 'Table 4.5. Chain-Type Quantity Indexes for Depreciation of Private Nonresidential Fixed Assets by Industry Group and Legal Form of Organization (A)'},\n",
       " {'TableName': 'FAAt406',\n",
       "  'Description': 'Table 4.6. Historical-Cost Depreciation of Private Nonresidential Fixed Assets by Industry Group and Legal Form of Organization (A)'},\n",
       " {'TableName': 'FAAt407',\n",
       "  'Description': 'Table 4.7. Investment in Private Nonresidential Fixed Assets by Industry Group and Legal Form of Organization (A)'},\n",
       " {'TableName': 'FAAt408',\n",
       "  'Description': 'Table 4.8. Chain-Type Quantity Indexes for Investment in Private Nonresidential Fixed Assets by Industry Group and Legal Form of Organization (A)'},\n",
       " {'TableName': 'FAAt409',\n",
       "  'Description': 'Table 4.9. Current-Cost Average Age at Yearend of Private Nonresidential Fixed Assets by Industry Group and Legal Form of Organization (A)'},\n",
       " {'TableName': 'FAAt410',\n",
       "  'Description': 'Table 4.10. Historical-Cost Average Age at Yearend of Private Nonresidential Fixed Assets by Industry Group and Legal Form of Organization (A)'},\n",
       " {'TableName': 'FAAt501',\n",
       "  'Description': 'Table 5.1. Current-Cost Net Stock of Residential Fixed Assets by Type of Owner, Legal Form of Organization, and Tenure Group (A)'},\n",
       " {'TableName': 'FAAt502',\n",
       "  'Description': 'Table 5.2. Chain-Type Quantity Indexes for Net Stock of Residential Fixed Assets by Type of Owner, Legal Form of Organization, and Tenure Group (A)'},\n",
       " {'TableName': 'FAAt503',\n",
       "  'Description': 'Table 5.3. Historical-Cost Net Stock of Residential Fixed Assets by Type of Owner, Legal Form of Organization, and Tenure Group (A)'},\n",
       " {'TableName': 'FAAt504',\n",
       "  'Description': 'Table 5.4. Current-Cost Depreciation of Residential Fixed Assets by Type of Owner, Legal Form of Organization, and Tenure Group (A)'},\n",
       " {'TableName': 'FAAt505',\n",
       "  'Description': 'Table 5.5. Chain-Type Quantity Indexes for Depreciation of Residential Fixed Assets by Type of Owner, Legal Form of Organization, and Tenure Group (A)'},\n",
       " {'TableName': 'FAAt506',\n",
       "  'Description': 'Table 5.6. Historical-Cost Depreciation of Residential Fixed Assets by Type of Owner, Legal Form of Organization, and Tenure Group (A)'},\n",
       " {'TableName': 'FAAt507',\n",
       "  'Description': 'Table 5.7. Investment in Residential Fixed Assets by Type of Owner, Legal Form of Organization, and Tenure Group (A)'},\n",
       " {'TableName': 'FAAt508',\n",
       "  'Description': 'Table 5.8. Chain-Type Quantity Indexes for Investment in Residential Fixed Assets by Type of Owner, Legal Form of Organization, and Tenure Group (A)'},\n",
       " {'TableName': 'FAAt509',\n",
       "  'Description': 'Table 5.9. Current-Cost Average Age at Yearend of Residential Fixed Assets by Type of Owner, Legal Form of Organization, and Tenure Group (A)'},\n",
       " {'TableName': 'FAAt510',\n",
       "  'Description': 'Table 5.10. Historical-Cost Average Age at Yearend of Residential Fixed Assets by Type of Owner, Legal Form of Organization, and Tenure Group (A)'},\n",
       " {'TableName': 'FAAt601',\n",
       "  'Description': 'Table 6.1. Current-Cost Net Stock of Private Fixed Assets by Industry Group and Legal Form of Organization (A)'},\n",
       " {'TableName': 'FAAt602',\n",
       "  'Description': 'Table 6.2. Chain-type Quantity Indexes for Net Stock of Private Fixed Assets by Industry Group and Legal Form of Organization (A)'},\n",
       " {'TableName': 'FAAt603',\n",
       "  'Description': 'Table 6.3. Historical-Cost Net Stock of Private Fixed Assets by Industry Group and Legal Form of Organization (A)'},\n",
       " {'TableName': 'FAAt604',\n",
       "  'Description': 'Table 6.4. Current-Cost Depreciation of Private Fixed Assets by Industry Group and Legal Form of Organization (A)'},\n",
       " {'TableName': 'FAAt605',\n",
       "  'Description': 'Table 6.5. Chain-Type Quantity Indexes for Depreciation of Private Fixed Assets by Industry Group and Legal Form of Organization (A)'},\n",
       " {'TableName': 'FAAt606',\n",
       "  'Description': 'Table 6.6. Historical-Cost Depreciation of Private Fixed Assets by Industry Group and Legal Form of Organization (A)'},\n",
       " {'TableName': 'FAAt607',\n",
       "  'Description': 'Table 6.7. Investment in Private Fixed Assets by Industry Group and Legal Form of Organization (A)'},\n",
       " {'TableName': 'FAAt608',\n",
       "  'Description': 'Table 6.8. Chain-Type Quantity Indexes for Investment in Private Fixed Assets by Industry Group and Legal Form of Organization (A)'},\n",
       " {'TableName': 'FAAt609',\n",
       "  'Description': 'Table 6.9. Current-Cost Average Age at Yearend of Private Fixed Assets by Industry Group and Legal Form of Organization (A)'},\n",
       " {'TableName': 'FAAt610',\n",
       "  'Description': 'Table 6.10. Historical-Cost Average Age at Yearend of Private Fixed Assets by Industry Group and Legal Form of Organization (A)'},\n",
       " {'TableName': 'FAAt701',\n",
       "  'Description': 'Table 7.1. Current-Cost Net Stock of Government Fixed Assets (A)'},\n",
       " {'TableName': 'FAAt702',\n",
       "  'Description': 'Table 7.2. Chain-Type Quantity Indexes for Net Stock of Government Fixed Assets (A)'},\n",
       " {'TableName': 'FAAt703',\n",
       "  'Description': 'Table 7.3. Current-Cost Depreciation of Government Fixed Assets (A)'},\n",
       " {'TableName': 'FAAt704',\n",
       "  'Description': 'Table 7.4. Chain-Type Quantity Indexes for Depreciation of Government Fixed Assets (A)'},\n",
       " {'TableName': 'FAAt705',\n",
       "  'Description': 'Table 7.5. Investment in Government Fixed Assets (A)'},\n",
       " {'TableName': 'FAAt706',\n",
       "  'Description': 'Table 7.6. Chain-Type Quantity Indexes for Investment in Government Fixed Assets (A)'},\n",
       " {'TableName': 'FAAt707',\n",
       "  'Description': 'Table 7.7. Current-Cost Average Age at Yearend of Government Fixed Assets (A)'},\n",
       " {'TableName': 'FAAt801',\n",
       "  'Description': 'Table 8.1. Current-Cost Net Stock of Consumer Durable Goods (A)'},\n",
       " {'TableName': 'FAAt802',\n",
       "  'Description': 'Table 8.2. Chain-Type Quantity Indexes for Net Stock of Consumer Durable Goods (A)'},\n",
       " {'TableName': 'FAAt803',\n",
       "  'Description': 'Table 8.3. Historical-Cost Net Stock of Consumer Durable Goods (A)'},\n",
       " {'TableName': 'FAAt804',\n",
       "  'Description': 'Table 8.4. Current-Cost Depreciation of Consumer Durable Goods (A)'},\n",
       " {'TableName': 'FAAt805',\n",
       "  'Description': 'Table 8.5. Chain-Type Quantity Indexes for Depreciation of Consumer Durable Goods (A)'},\n",
       " {'TableName': 'FAAt806',\n",
       "  'Description': 'Table 8.6. Historical-Cost Depreciation of Consumer Durable Goods (A)'},\n",
       " {'TableName': 'FAAt807',\n",
       "  'Description': 'Table 8.7. Investment in Consumer Durable Goods (A)'},\n",
       " {'TableName': 'FAAt808',\n",
       "  'Description': 'Table 8.8. Chain-Type Quantity Indexes for Investment in Consumer Durable Goods (A)'},\n",
       " {'TableName': 'FAAt809',\n",
       "  'Description': 'Table 8.9. Current-Cost Average Age at Yearend of Consumer Durable Goods (A)'},\n",
       " {'TableName': 'FAAt810',\n",
       "  'Description': 'Table 8.10. Historical-Cost Average Age at Yearend of Consumer Durable Goods (A)'},\n",
       " {'TableName': 'FAAt901',\n",
       "  'Description': 'Table 9.1. Real Net Stock of Fixed Assets and Consumer Durable Goods (A)'},\n",
       " {'TableName': 'FAAt902',\n",
       "  'Description': 'Table 9.2. Real Depreciation of Fixed Assets and Consumer Durable Goods (A)'},\n",
       " {'TableName': 'FAAt903',\n",
       "  'Description': 'Table 9.3. Real Investment in Fixed Assets and Consumer Durable Goods (A)'}]"
      ]
     },
     "execution_count": 9,
     "metadata": {},
     "output_type": "execute_result"
    }
   ],
   "source": [
    "from models.base import BEA\n",
    "bea.fixed_assets.show_dataset_tables()"
   ]
  },
  {
   "cell_type": "code",
   "execution_count": 5,
   "id": "c99cdb80",
   "metadata": {},
   "outputs": [
    {
     "data": {
      "text/plain": [
       "[{'key': 'value'}]"
      ]
     },
     "execution_count": 5,
     "metadata": {},
     "output_type": "execute_result"
    }
   ],
   "source": [
    "df = [{'key': 'value'}]\n",
    "df\n",
    " "
   ]
  },
  {
   "cell_type": "code",
   "execution_count": 6,
   "id": "71820871",
   "metadata": {},
   "outputs": [],
   "source": [
    "import pandas as pd\n",
    "df = pd.DataFrame(df)\n"
   ]
  },
  {
   "cell_type": "code",
   "execution_count": 7,
   "id": "5418bd1c",
   "metadata": {},
   "outputs": [
    {
     "data": {
      "text/html": [
       "<div>\n",
       "<style scoped>\n",
       "    .dataframe tbody tr th:only-of-type {\n",
       "        vertical-align: middle;\n",
       "    }\n",
       "\n",
       "    .dataframe tbody tr th {\n",
       "        vertical-align: top;\n",
       "    }\n",
       "\n",
       "    .dataframe thead th {\n",
       "        text-align: right;\n",
       "    }\n",
       "</style>\n",
       "<table border=\"1\" class=\"dataframe\">\n",
       "  <thead>\n",
       "    <tr style=\"text-align: right;\">\n",
       "      <th></th>\n",
       "      <th>key</th>\n",
       "    </tr>\n",
       "  </thead>\n",
       "  <tbody>\n",
       "    <tr>\n",
       "      <th>0</th>\n",
       "      <td>value</td>\n",
       "    </tr>\n",
       "  </tbody>\n",
       "</table>\n",
       "</div>"
      ],
      "text/plain": [
       "     key\n",
       "0  value"
      ]
     },
     "execution_count": 7,
     "metadata": {},
     "output_type": "execute_result"
    }
   ],
   "source": [
    "df"
   ]
  },
  {
   "cell_type": "code",
   "execution_count": 9,
   "id": "78919b86",
   "metadata": {},
   "outputs": [
    {
     "data": {
      "text/plain": [
       "key    value\n",
       "Name: 0, dtype: object"
      ]
     },
     "execution_count": 9,
     "metadata": {},
     "output_type": "execute_result"
    }
   ],
   "source": [
    "df.iloc[0]"
   ]
  },
  {
   "cell_type": "code",
   "execution_count": null,
   "id": "0efde075",
   "metadata": {},
   "outputs": [],
   "source": []
  }
 ],
 "metadata": {
  "kernelspec": {
   "display_name": "Python 3 (ipykernel)",
   "language": "python",
   "name": "python3"
  },
  "language_info": {
   "codemirror_mode": {
    "name": "ipython",
    "version": 3
   },
   "file_extension": ".py",
   "mimetype": "text/x-python",
   "name": "python",
   "nbconvert_exporter": "python",
   "pygments_lexer": "ipython3",
   "version": "3.9.9"
  }
 },
 "nbformat": 4,
 "nbformat_minor": 5
}
