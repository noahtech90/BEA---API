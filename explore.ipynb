{
 "cells": [
  {
   "cell_type": "code",
   "execution_count": 3,
   "id": "fa800341",
   "metadata": {},
   "outputs": [],
   "source": [
    "import pandas as pd\n",
    "import matplotlib\n",
    "from common import clean_data\n",
    "from urllib.request import urlopen\n",
    "import plotly.graph_objects as go\n",
    "from settings import *\n",
    "import plotly.express as px\n",
    "from base import BEA\n",
    "\n",
    "#datasets = bea.meta.get_available_data_sets()\n",
    "#parameters = bea.meta.get_available_parameters(dataset)['BEAAPI']['Results']\n",
    "#parameter_values = bea.meta.get_parameter_values(dataset, parameter)\n",
    "\n",
    "bea = BEA()\n",
    "dataset = 'NIPA'\n",
    "parameter = 'TableID'"
   ]
  },
  {
   "cell_type": "code",
   "execution_count": 6,
   "id": "ba95fc48",
   "metadata": {},
   "outputs": [
    {
     "name": "stdout",
     "output_type": "stream",
     "text": [
      "<Response [200]>\n",
      "{'BEAAPI': {'Request': {'RequestParam': [{'ParameterName': 'YEAR', 'ParameterValue': '2020'}, {'ParameterName': 'METHOD', 'ParameterValue': 'GETDATA'}, {'ParameterName': 'DATASETNAME', 'ParameterValue': 'NIPA'}, {'ParameterName': 'TABLENAME', 'ParameterValue': 'T10101'}, {'ParameterName': 'USERID', 'ParameterValue': '487A2E74-F753-4B15-B306-2FC3A0D95F09'}, {'ParameterName': 'FREQUENCY', 'ParameterValue': 'Y'}, {'ParameterName': 'ShowMillions', 'ParameterValue': 'N'}]}, 'Error': {'APIErrorDescription': 'Error retrieving NIPA data.', 'APIErrorCode': '201', 'ErrorDetail': {'Description': 'Invalid frequency requested: Y. Please provide frequency AQM only.'}}}}\n"
     ]
    }
   ],
   "source": [
    "bea = BEA()\n",
    "bea.nipa.show_dataset_tables()\n",
    "bea.nipa.access_table_data('T10101')"
   ]
  },
  {
   "cell_type": "code",
   "execution_count": 4,
   "id": "4afdf428",
   "metadata": {},
   "outputs": [
    {
     "ename": "NameError",
     "evalue": "name 'x' is not defined",
     "output_type": "error",
     "traceback": [
      "\u001b[1;31m---------------------------------------------------------------------------\u001b[0m",
      "\u001b[1;31mNameError\u001b[0m                                 Traceback (most recent call last)",
      "\u001b[1;32mC:\\Users\\PCSALE~1\\AppData\\Local\\Temp/ipykernel_20764/3845668762.py\u001b[0m in \u001b[0;36m<module>\u001b[1;34m\u001b[0m\n\u001b[1;32m----> 1\u001b[1;33m \u001b[0mprint\u001b[0m\u001b[1;33m(\u001b[0m\u001b[0mx\u001b[0m\u001b[1;33m.\u001b[0m\u001b[0mdataset\u001b[0m\u001b[1;33m)\u001b[0m\u001b[1;33m\u001b[0m\u001b[1;33m\u001b[0m\u001b[0m\n\u001b[0m",
      "\u001b[1;31mNameError\u001b[0m: name 'x' is not defined"
     ]
    }
   ],
   "source": [
    "print(x.dataset)"
   ]
  },
  {
   "cell_type": "code",
   "execution_count": null,
   "id": "142814fb",
   "metadata": {},
   "outputs": [],
   "source": []
  }
 ],
 "metadata": {
  "kernelspec": {
   "display_name": "Python 3 (ipykernel)",
   "language": "python",
   "name": "python3"
  },
  "language_info": {
   "codemirror_mode": {
    "name": "ipython",
    "version": 3
   },
   "file_extension": ".py",
   "mimetype": "text/x-python",
   "name": "python",
   "nbconvert_exporter": "python",
   "pygments_lexer": "ipython3",
   "version": "3.9.9"
  }
 },
 "nbformat": 4,
 "nbformat_minor": 5
}
