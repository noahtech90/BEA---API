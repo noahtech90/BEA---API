{
 "cells": [
  {
   "cell_type": "code",
   "execution_count": 1,
   "id": "fa800341",
   "metadata": {},
   "outputs": [],
   "source": [
    "import pandas as pd\n",
    "import matplotlib\n",
    "from common import clean_data\n",
    "from urllib.request import urlopen\n",
    "import plotly.graph_objects as go\n",
    "from settings import *\n",
    "import plotly.express as px\n",
    "from base import BEA\n",
    "\n",
    "#datasets = bea.meta.get_available_data_sets()\n",
    "#parameters = bea.meta.get_available_parameters(dataset)['BEAAPI']['Results']\n",
    "#parameter_values = bea.meta.get_parameter_values(dataset, parameter)\n",
    "\n",
    "bea = BEA()\n",
    "dataset = 'NIPA'\n",
    "parameter = 'TableID'"
   ]
  },
  {
   "cell_type": "code",
   "execution_count": null,
   "id": "ba95fc48",
   "metadata": {},
   "outputs": [
    {
     "ename": "Error",
     "evalue": "Session cannot generate requests",
     "output_type": "error",
     "traceback": [
      "Error: Session cannot generate requests",
      "at S.executeCodeCell (c:\\Users\\PCSale123\\.vscode\\extensions\\ms-toolsai.jupyter-2021.10.1101450599\\out\\client\\extension.js:66:301742)",
      "at S.execute (c:\\Users\\PCSale123\\.vscode\\extensions\\ms-toolsai.jupyter-2021.10.1101450599\\out\\client\\extension.js:66:300732)",
      "at S.start (c:\\Users\\PCSale123\\.vscode\\extensions\\ms-toolsai.jupyter-2021.10.1101450599\\out\\client\\extension.js:66:296408)",
      "at processTicksAndRejections (internal/process/task_queues.js:93:5)",
      "at async t.CellExecutionQueue.executeQueuedCells (c:\\Users\\PCSale123\\.vscode\\extensions\\ms-toolsai.jupyter-2021.10.1101450599\\out\\client\\extension.js:66:312326)",
      "at async t.CellExecutionQueue.start (c:\\Users\\PCSale123\\.vscode\\extensions\\ms-toolsai.jupyter-2021.10.1101450599\\out\\client\\extension.js:66:311862)"
     ]
    }
   ],
   "source": [
    "x = bea.meta.get_available_data_sets()\n",
    "x"
   ]
  },
  {
   "cell_type": "code",
   "execution_count": 37,
   "id": "4afdf428",
   "metadata": {},
   "outputs": [
    {
     "name": "stdout",
     "output_type": "stream",
     "text": [
      "None\n"
     ]
    }
   ],
   "source": [
    "print(x.dataset)"
   ]
  },
  {
   "cell_type": "code",
   "execution_count": null,
   "id": "142814fb",
   "metadata": {},
   "outputs": [],
   "source": []
  }
 ],
 "metadata": {
  "kernelspec": {
   "display_name": "Python 3 (ipykernel)",
   "language": "python",
   "name": "python3"
  },
  "language_info": {
   "codemirror_mode": {
    "name": "ipython",
    "version": 3
   },
   "file_extension": ".py",
   "mimetype": "text/x-python",
   "name": "python",
   "nbconvert_exporter": "python",
   "pygments_lexer": "ipython3",
   "version": "3.9.9"
  }
 },
 "nbformat": 4,
 "nbformat_minor": 5
}
