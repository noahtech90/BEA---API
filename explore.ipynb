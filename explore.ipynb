{
 "cells": [
  {
   "cell_type": "code",
   "execution_count": 25,
   "id": "fa800341",
   "metadata": {},
   "outputs": [],
   "source": [
    "import pandas as pd\n",
    "import matplotlib\n",
    "from common import clean_data\n",
    "from urllib.request import urlopen\n",
    "import plotly.graph_objects as go\n",
    "from settings import *\n",
    "import plotly.express as px\n",
    "from base import BEA\n",
    "\n",
    "#datasets = bea.meta.get_available_data_sets()\n",
    "#parameters = bea.meta.get_available_parameters(dataset)['BEAAPI']['Results']\n",
    "#parameter_values = bea.meta.get_parameter_values(dataset, parameter)\n",
    "\n",
    "bea = BEA()\n",
    "dataset = 'NIPA'\n",
    "parameter = 'TableID'"
   ]
  },
  {
   "cell_type": "code",
   "execution_count": 10,
   "id": "ba95fc48",
   "metadata": {},
   "outputs": [],
   "source": []
  }
 ],
 "metadata": {
  "kernelspec": {
   "display_name": "Python 3 (ipykernel)",
   "language": "python",
   "name": "python3"
  },
  "language_info": {
   "codemirror_mode": {
    "name": "ipython",
    "version": 3
   },
   "file_extension": ".py",
   "mimetype": "text/x-python",
   "name": "python",
   "nbconvert_exporter": "python",
   "pygments_lexer": "ipython3",
   "version": "3.9.9"
  }
 },
 "nbformat": 4,
 "nbformat_minor": 5
}
