{
 "cells": [
  {
   "cell_type": "code",
   "execution_count": 18,
   "metadata": {},
   "outputs": [],
   "source": [
    "import requests\n",
    "import pandas as pd\n",
    "from pprint import pprint\n",
    "\n",
    "# API\n",
    "api_key = '#'\n",
    "method = ['GETDATASETLIST', 'getparameterlist']\n",
    "data_set_name = ['GDPbyIndustry']\n",
    "parameter_name = ''\n",
    "result_format = 'JSON'\n",
    "\n",
    "# Construct URL\n",
    "base_url = (f'https://apps.bea.gov/api/data?'\n",
    "+ f'&UserID={api_key}' \n",
    "+ f'&method={method[1]}'\n",
    "+ f'&ResultFormat={result_format}'\n",
    "+ f'&datasetname={data_set_name[0]}')\n",
    "\n",
    "response = requests.get(base_url)\n",
    "resp = response.json()\n"
   ]
  },
  {
   "cell_type": "code",
   "execution_count": 17,
   "metadata": {},
   "outputs": [
    {
     "name": "stdout",
     "output_type": "stream",
     "text": [
      "{'Parameter': [{'AllValue': 'ALL',\n",
      "                'MultipleAcceptedFlag': '1',\n",
      "                'ParameterDataType': 'string',\n",
      "                'ParameterDefaultValue': '',\n",
      "                'ParameterDescription': 'A - Annual, Q-Quarterly',\n",
      "                'ParameterIsRequiredFlag': '1',\n",
      "                'ParameterName': 'Frequency'},\n",
      "               {'AllValue': 'ALL',\n",
      "                'MultipleAcceptedFlag': '1',\n",
      "                'ParameterDataType': 'string',\n",
      "                'ParameterDefaultValue': '',\n",
      "                'ParameterDescription': 'List of industries to retrieve (ALL '\n",
      "                                        'for All)',\n",
      "                'ParameterIsRequiredFlag': '1',\n",
      "                'ParameterName': 'Industry'},\n",
      "               {'AllValue': 'ALL',\n",
      "                'MultipleAcceptedFlag': '1',\n",
      "                'ParameterDataType': 'integer',\n",
      "                'ParameterDefaultValue': '',\n",
      "                'ParameterDescription': 'The unique GDP by Industry table '\n",
      "                                        'identifier (ALL for All)',\n",
      "                'ParameterIsRequiredFlag': '1',\n",
      "                'ParameterName': 'TableID'},\n",
      "               {'AllValue': 'ALL',\n",
      "                'MultipleAcceptedFlag': '1',\n",
      "                'ParameterDataType': 'integer',\n",
      "                'ParameterDefaultValue': '',\n",
      "                'ParameterDescription': 'List of year(s) of data to retrieve '\n",
      "                                        '(ALL for All)',\n",
      "                'ParameterIsRequiredFlag': '1',\n",
      "                'ParameterName': 'Year'}]}\n"
     ]
    }
   ],
   "source": [
    "pprint(resp['BEAAPI']['Results'])\n",
    "#industry_gdp = df[df['DatasetName'] == 'GDPbyIndustry']\n",
    "#industry_gdp\n"
   ]
  },
  {
   "cell_type": "code",
   "execution_count": null,
   "metadata": {},
   "outputs": [],
   "source": []
  }
 ],
 "metadata": {
  "interpreter": {
   "hash": "c8476d9c1b0eca410419e77e2c6f5ccd0bc49e0c1cf3bdfa3add2a711c8c822f"
  },
  "kernelspec": {
   "display_name": "Python 3.9.9 64-bit (windows store)",
   "language": "python",
   "name": "python3"
  },
  "language_info": {
   "codemirror_mode": {
    "name": "ipython",
    "version": 3
   },
   "file_extension": ".py",
   "mimetype": "text/x-python",
   "name": "python",
   "nbconvert_exporter": "python",
   "pygments_lexer": "ipython3",
   "version": "3.9.9"
  },
  "orig_nbformat": 4
 },
 "nbformat": 4,
 "nbformat_minor": 2
}
