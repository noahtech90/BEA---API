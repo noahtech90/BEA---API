{
 "cells": [
  {
   "cell_type": "code",
   "execution_count": 62,
   "metadata": {},
   "outputs": [],
   "source": [
    "import requests\n",
    "import pandas as pd\n",
    "from pprint import pprint\n",
    "\n",
    "# API\n",
    "api_key = '#'\n",
    "method = [None, 'GETDATA', 'GetParameterValuesFiltered', 'GETPARAMETERVALUES','GETDATASETLIST', 'getparameterlist']\n",
    "data_set_name = [None,'GDPbyIndustry']\n",
    "parameter_name = [None, 'Frequency', 'Year', 'Industry', 'TableId']\n",
    "target_parameter = [None, 'LINECODE&TABLENAME']\n",
    "result_format = 'JSON'\n",
    "\n",
    "# Construct URL\n",
    "base_url = (f'https://apps.bea.gov/api/data?'\n",
    "+ f'&USERID={api_key}' \n",
    "+ f'&METHOD={method[4]}'\n",
    "+ f'&ResultFormat={result_format}'\n",
    "#+ f'&DATASETNAME={data_set_name[0]}'\n",
    "+ f'&TARGETPARAMETER={target_parameter[0]}'\n",
    "+ f'&PARAMETERNAME={parameter_name[0]}')\n",
    "\n",
    "response = requests.get(base_url)\n",
    "resp = response.json()\n"
   ]
  },
  {
   "cell_type": "code",
   "execution_count": 63,
   "metadata": {},
   "outputs": [
    {
     "name": "stdout",
     "output_type": "stream",
     "text": [
      "{'Dataset': [{'DatasetDescription': 'Standard NIPA tables',\n",
      "              'DatasetName': 'NIPA'},\n",
      "             {'DatasetDescription': 'Standard NI underlying detail tables',\n",
      "              'DatasetName': 'NIUnderlyingDetail'},\n",
      "             {'DatasetDescription': 'Multinational Enterprises',\n",
      "              'DatasetName': 'MNE'},\n",
      "             {'DatasetDescription': 'Standard Fixed Assets tables',\n",
      "              'DatasetName': 'FixedAssets'},\n",
      "             {'DatasetDescription': 'International Transactions Accounts',\n",
      "              'DatasetName': 'ITA'},\n",
      "             {'DatasetDescription': 'International Investment Position',\n",
      "              'DatasetName': 'IIP'},\n",
      "             {'DatasetDescription': 'Input-Output Data',\n",
      "              'DatasetName': 'InputOutput'},\n",
      "             {'DatasetDescription': 'International Services Trade',\n",
      "              'DatasetName': 'IntlServTrade'},\n",
      "             {'DatasetDescription': 'GDP by Industry',\n",
      "              'DatasetName': 'GDPbyIndustry'},\n",
      "             {'DatasetDescription': 'Regional data sets',\n",
      "              'DatasetName': 'Regional'},\n",
      "             {'DatasetDescription': 'Underlying GDP by Industry',\n",
      "              'DatasetName': 'UnderlyingGDPbyIndustry'},\n",
      "             {'DatasetDescription': 'Metadata about other API datasets',\n",
      "              'DatasetName': 'APIDatasetMetaData'}]}\n"
     ]
    }
   ],
   "source": [
    "pprint(resp['BEAAPI']['Results'])\n",
    "#industry_gdp = df[df['DatasetName'] == 'GDPbyIndustry']\n",
    "#industry_gdp\n"
   ]
  },
  {
   "cell_type": "code",
   "execution_count": null,
   "metadata": {},
   "outputs": [],
   "source": []
  }
 ],
 "metadata": {
  "interpreter": {
   "hash": "c8476d9c1b0eca410419e77e2c6f5ccd0bc49e0c1cf3bdfa3add2a711c8c822f"
  },
  "kernelspec": {
   "display_name": "Python 3.9.9 64-bit (windows store)",
   "language": "python",
   "name": "python3"
  },
  "language_info": {
   "codemirror_mode": {
    "name": "ipython",
    "version": 3
   },
   "file_extension": ".py",
   "mimetype": "text/x-python",
   "name": "python",
   "nbconvert_exporter": "python",
   "pygments_lexer": "ipython3",
   "version": "3.9.9"
  },
  "orig_nbformat": 4
 },
 "nbformat": 4,
 "nbformat_minor": 2
}
